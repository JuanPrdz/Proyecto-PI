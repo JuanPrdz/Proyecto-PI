{
 "cells": [
  {
   "cell_type": "markdown",
   "metadata": {},
   "source": [
    "___\n",
    "<img style=\"float: right; margin: 0px 0px 15px 15px;\" src=\"https://upload.wikimedia.org/wikipedia/commons/0/08/Pareto_Efficient_Frontier_for_the_Markowitz_Portfolio_selection_problem..png\" width=\"300px\" height=\"100px\" />\n",
    "\n",
    "\n",
    "# Proyecto Final\n",
    "\n",
    "En el proyecto final diseñarás un portafolio de inversión utilizando activos (o ETFs) reales de tu preferencia. Utilizarás todas las herramientas vistas a lo largo del curso para este fin, y después, evaluarás qué tan buena hubiera sido tu inversión de haber invertido en este portafolio.\n",
    "\n",
    "El proyecto se realizará en equipos de mínimo dos (2) y máximo tres (3) personas. Ni más, ni menos. Para esto, deberán conformar los equipos en este momento, y designar a un miembro del equipo que me envíe un correo con los nombres de los integrantes.\n",
    "___"
   ]
  },
  {
   "cell_type": "markdown",
   "metadata": {},
   "source": [
    "## 1. Elección de activos \n",
    "\n",
    "Lo primero es elegir los activos que van a utilizar. En este punto tienen tres opciones:\n",
    "\n",
    "1. Si deciden trabajar únicamente con acciones de empresas particulares, deben elegir y listar mínimo 20 activos.\n",
    "\n",
    "2. Si deciden trabajar únicamente con ETFs, deben elegir y listar mínimo 10 ETFs.\n",
    "\n",
    "3. Si deciden trabajar con una combinación de acciones y ETFs, deben elegir y listar por lo menos 5 ETFs y 10 activos.\n",
    "\n",
    "En cualquiera de los tres casos deben explicar detalladamente la elección de cada uno de los activos y/o ETFs que elijan."
   ]
  },
  {
   "cell_type": "markdown",
   "metadata": {},
   "source": [
    "Nuestra elección fue la opción 3 y para esto se escogieron los siguientes instrumentos:\n",
    "\n",
    "* ETFs:\n",
    "\n",
    "    * ARKK: \n",
    "    \n",
    "    * QYLD: \n",
    "    \n",
    "    * SPY: Lo elegimos por que el S&P 500 es de los principales índices de mercado y lo conforman empresas de gran renombre como apple, microsoft, Johnson & Johnson, entre otras. \n",
    "    \n",
    "    * VTI: Abarca los principales sectores de materias primas, finanzas, salud, tecnología, petróleo, entre otros.\n",
    "    \n",
    "    * VYM: Porque está compuesto de empresas que ofrecen dividendos sustanciales (397 grandes y medianas empresas).\n",
    "    \n",
    "* Activos:\n",
    "\n",
    "    * IBM:\n",
    "    \n",
    "    * American airlines:\n",
    "    \n",
    "    * Paypal:\n",
    "    \n",
    "    * Pfizer:\n",
    "    \n",
    "    * Twitter:\n",
    "    \n",
    "    * Apple:\n",
    "    \n",
    "    * Tesla:\n",
    "    \n",
    "    * Netflix:\n",
    "    \n",
    "    * Amazon:\n",
    "    \n",
    "    * Coca-Cola:\n",
    "    \n",
    "    * Tasa libre de riesgo (cetes):\n",
    "    "
   ]
  },
  {
   "cell_type": "markdown",
   "metadata": {},
   "source": [
    "## 2. Selección de portafolios\n",
    "\n",
    "Una vez elegidos los activos y/o ETFs:\n",
    "\n",
    "1. Usando los precios históricos de dichos activos hasta el 2015-12-31 (la fecha inicial es un parámetro que ustedes deberán elegir), diseñarán un portafolio en el que (hipotéticamente) habrían invertido durante todo el 2016. Para esto, deberán suponer un coeficiente de aversión al riesgo.\n",
    "\n",
    "2. Usando los precios históricos de dichos activos hasta el 2016-12-31, diseñarán un portafolio en el que (hipotéticamente) habrían invertido durante todo el 2017.\n",
    "\n",
    "3. Usando los precios históricos de dichos activos hasta el 2017-12-31, diseñarán un portafolio en el que (hipotéticamente) habrían invertido durante todo el 2018.\n",
    "\n",
    "4. Usando los precios históricos de dichos activos hasta el 2018-12-31, diseñarán un portafolio en el que (hipotéticamente) habrían invertido durante todo el 2019.\n",
    "\n",
    "5. Usando los precios históricos de dichos activos hasta el 2019-12-31, diseñarán un portafolio en el que (hipotéticamente) habrían invertido durante todo el 2020.\n",
    "\n",
    "6. Usando los precios históricos de dichos activos hasta el 2020-12-31, diseñarán un portafolio en el que (hipotéticamente) habrían invertido durante todo el 2021."
   ]
  },
  {
   "cell_type": "code",
   "execution_count": 2,
   "metadata": {},
   "outputs": [],
   "source": [
    "import matplotlib\n",
    "import numpy as np\n",
    "import pandas as pd\n",
    "import scipy.stats as stats\n",
    "import plotly.graph_objs as go\n",
    "import matplotlib.pyplot as plt\n",
    "import pandas_datareader.data as web\n",
    "from plotly.subplots import make_subplots\n",
    "import scipy.optimize as opt\n",
    "from scipy.optimize import minimize"
   ]
  },
  {
   "cell_type": "code",
   "execution_count": 3,
   "metadata": {},
   "outputs": [],
   "source": [
    "# Función para descargar precios de cierre ajustados:\n",
    "def get_adj_closes(tickers, start_date=None, end_date=None, freq = None):\n",
    "    closes = web.YahooDailyReader(symbols=tickers, start=start_date, end=end_date, interval = freq).read()['Adj Close']\n",
    "    return closes"
   ]
  },
  {
   "cell_type": "code",
   "execution_count": 4,
   "metadata": {},
   "outputs": [],
   "source": [
    "# Función objetivo\n",
    "def varianza(w,Sigma):\n",
    "    return w.T.dot(Sigma).dot(w) "
   ]
  },
  {
   "cell_type": "code",
   "execution_count": 5,
   "metadata": {},
   "outputs": [],
   "source": [
    "# Función objetivo\n",
    "def menos_RS(w,Eind,Sigma,rf):\n",
    "    Ep=Eind.T.dot(w)\n",
    "    sp=(w.T.dot(Sigma).dot(w))**.5\n",
    "    RS=(Ep-rf)/sp\n",
    "    return -RS"
   ]
  },
  {
   "cell_type": "code",
   "execution_count": 6,
   "metadata": {},
   "outputs": [],
   "source": [
    "tickers = 'VNQ VBK SPY VTI VYM IBM AAL GOOG PFE SONY AAPL VWAGY NFLX AMZN KO'\n",
    "tickers = tickers.split(' ')"
   ]
  },
  {
   "cell_type": "code",
   "execution_count": 7,
   "metadata": {},
   "outputs": [],
   "source": [
    "# Vector de w\n",
    "N=101\n",
    "w=np.linspace(0,1,N)"
   ]
  },
  {
   "cell_type": "code",
   "execution_count": 8,
   "metadata": {},
   "outputs": [],
   "source": [
    "# Grado de aversión al riesgo\n",
    "g=8"
   ]
  },
  {
   "cell_type": "markdown",
   "metadata": {},
   "source": [
    "# 2.1"
   ]
  },
  {
   "cell_type": "code",
   "execution_count": 9,
   "metadata": {},
   "outputs": [],
   "source": [
    "start = '2010-01-01'\n",
    "end = '2015-12-31'\n",
    "prices=get_adj_closes(tickers, start, end, 'd')"
   ]
  },
  {
   "cell_type": "code",
   "execution_count": 8,
   "metadata": {},
   "outputs": [
    {
     "data": {
      "text/plain": [
       "<matplotlib.legend.Legend at 0x1db2b5d45c8>"
      ]
     },
     "execution_count": 8,
     "metadata": {},
     "output_type": "execute_result"
    },
    {
     "data": {
      "image/png": "[encoded data removed]",
      "text/plain": [
       "<Figure size 432x288 with 1 Axes>"
      ]
     },
     "metadata": {
      "needs_background": "light"
     },
     "output_type": "display_data"
    }
   ],
   "source": [
    "prices.plot(figsize=(6,4),grid=True)\n",
    "plt.ylabel('Precios')\n",
    "plt.legend(loc='upper left',bbox_to_anchor=(1.3,1))"
   ]
  },
  {
   "cell_type": "code",
   "execution_count": 10,
   "metadata": {},
   "outputs": [],
   "source": [
    "ret = prices.pct_change().dropna()"
   ]
  },
  {
   "cell_type": "code",
   "execution_count": 11,
   "metadata": {},
   "outputs": [
    {
     "data": {
      "text/html": [
       "<div>\n",
       "<style scoped>\n",
       "    .dataframe tbody tr th:only-of-type {\n",
       "        vertical-align: middle;\n",
       "    }\n",
       "\n",
       "    .dataframe tbody tr th {\n",
       "        vertical-align: top;\n",
       "    }\n",
       "\n",
       "    .dataframe thead th {\n",
       "        text-align: right;\n",
       "    }\n",
       "</style>\n",
       "<table border=\"1\" class=\"dataframe\">\n",
       "  <thead>\n",
       "    <tr style=\"text-align: right;\">\n",
       "      <th></th>\n",
       "      <th>Media</th>\n",
       "      <th>Vol</th>\n",
       "    </tr>\n",
       "    <tr>\n",
       "      <th>Symbols</th>\n",
       "      <th></th>\n",
       "      <th></th>\n",
       "    </tr>\n",
       "  </thead>\n",
       "  <tbody>\n",
       "    <tr>\n",
       "      <th>VNQ</th>\n",
       "      <td>0.155493</td>\n",
       "      <td>0.199559</td>\n",
       "    </tr>\n",
       "    <tr>\n",
       "      <th>VBK</th>\n",
       "      <td>0.143562</td>\n",
       "      <td>0.205940</td>\n",
       "    </tr>\n",
       "    <tr>\n",
       "      <th>SPY</th>\n",
       "      <td>0.130934</td>\n",
       "      <td>0.157928</td>\n",
       "    </tr>\n",
       "    <tr>\n",
       "      <th>VTI</th>\n",
       "      <td>0.132863</td>\n",
       "      <td>0.162344</td>\n",
       "    </tr>\n",
       "    <tr>\n",
       "      <th>VYM</th>\n",
       "      <td>0.132139</td>\n",
       "      <td>0.139865</td>\n",
       "    </tr>\n",
       "    <tr>\n",
       "      <th>IBM</th>\n",
       "      <td>0.045872</td>\n",
       "      <td>0.190062</td>\n",
       "    </tr>\n",
       "    <tr>\n",
       "      <th>AAL</th>\n",
       "      <td>0.493348</td>\n",
       "      <td>0.504898</td>\n",
       "    </tr>\n",
       "    <tr>\n",
       "      <th>GOOG</th>\n",
       "      <td>0.181028</td>\n",
       "      <td>0.257254</td>\n",
       "    </tr>\n",
       "    <tr>\n",
       "      <th>PFE</th>\n",
       "      <td>0.143711</td>\n",
       "      <td>0.187987</td>\n",
       "    </tr>\n",
       "    <tr>\n",
       "      <th>SONY</th>\n",
       "      <td>0.025782</td>\n",
       "      <td>0.343752</td>\n",
       "    </tr>\n",
       "    <tr>\n",
       "      <th>AAPL</th>\n",
       "      <td>0.254032</td>\n",
       "      <td>0.266587</td>\n",
       "    </tr>\n",
       "    <tr>\n",
       "      <th>VWAGY</th>\n",
       "      <td>0.123264</td>\n",
       "      <td>0.351877</td>\n",
       "    </tr>\n",
       "    <tr>\n",
       "      <th>NFLX</th>\n",
       "      <td>0.625627</td>\n",
       "      <td>0.591866</td>\n",
       "    </tr>\n",
       "    <tr>\n",
       "      <th>AMZN</th>\n",
       "      <td>0.324013</td>\n",
       "      <td>0.328069</td>\n",
       "    </tr>\n",
       "    <tr>\n",
       "      <th>KO</th>\n",
       "      <td>0.109726</td>\n",
       "      <td>0.152303</td>\n",
       "    </tr>\n",
       "  </tbody>\n",
       "</table>\n",
       "</div>"
      ],
      "text/plain": [
       "            Media       Vol\n",
       "Symbols                    \n",
       "VNQ      0.155493  0.199559\n",
       "VBK      0.143562  0.205940\n",
       "SPY      0.130934  0.157928\n",
       "VTI      0.132863  0.162344\n",
       "VYM      0.132139  0.139865\n",
       "IBM      0.045872  0.190062\n",
       "AAL      0.493348  0.504898\n",
       "GOOG     0.181028  0.257254\n",
       "PFE      0.143711  0.187987\n",
       "SONY     0.025782  0.343752\n",
       "AAPL     0.254032  0.266587\n",
       "VWAGY    0.123264  0.351877\n",
       "NFLX     0.625627  0.591866\n",
       "AMZN     0.324013  0.328069\n",
       "KO       0.109726  0.152303"
      ]
     },
     "execution_count": 11,
     "metadata": {},
     "output_type": "execute_result"
    }
   ],
   "source": [
    "#Rendimientos y volatilidades esperadas\n",
    "summary = pd.DataFrame(data={'Media': 252*ret.mean(),\n",
    "                            'Vol':((252)**(.5))*ret.std()})\n",
    "summary"
   ]
  },
  {
   "cell_type": "code",
   "execution_count": 12,
   "metadata": {},
   "outputs": [],
   "source": [
    "#Matriz de varianza - covarianza\n",
    "cov_ret = ret.cov()"
   ]
  },
  {
   "cell_type": "code",
   "execution_count": 13,
   "metadata": {},
   "outputs": [],
   "source": [
    "#Matriz de correlación\n",
    "corr = ret.corr()"
   ]
  },
  {
   "cell_type": "code",
   "execution_count": 14,
   "metadata": {},
   "outputs": [],
   "source": [
    "S=np.diag(summary['Vol'].values)\n",
    "Sigma = S.dot(corr).dot(S)\n",
    "Eind=summary['Media'].values"
   ]
  },
  {
   "cell_type": "code",
   "execution_count": 15,
   "metadata": {},
   "outputs": [],
   "source": [
    "# Número de activos\n",
    "n=len(Eind)\n",
    "# Dato inicial\n",
    "w0=np.ones((n,))/n\n",
    "# Cotas de las variables\n",
    "bnds=((0,1),)*n\n",
    "# Restricciones\n",
    "cons={'type':'eq','fun':lambda w:w.sum()-1}"
   ]
  },
  {
   "cell_type": "code",
   "execution_count": 16,
   "metadata": {},
   "outputs": [],
   "source": [
    "# Portafolio de mínima varianza\n",
    "minvar=minimize(fun=varianza,\n",
    "               x0=w0,\n",
    "               args=(Sigma,),\n",
    "               bounds=bnds,\n",
    "               constraints=cons,\n",
    "               tol=1e-10)"
   ]
  },
  {
   "cell_type": "code",
   "execution_count": 17,
   "metadata": {},
   "outputs": [
    {
     "data": {
      "text/plain": [
       "array([0.00000000e+00, 9.63064996e-18, 0.00000000e+00, 0.00000000e+00,\n",
       "       4.62588557e-01, 7.18462191e-02, 7.56634636e-19, 0.00000000e+00,\n",
       "       7.40514618e-02, 4.42730273e-18, 1.93743887e-02, 3.94824001e-18,\n",
       "       4.67705391e-03, 0.00000000e+00, 3.67462319e-01])"
      ]
     },
     "execution_count": 17,
     "metadata": {},
     "output_type": "execute_result"
    }
   ],
   "source": [
    "w_minvar=minvar.x\n",
    "w_minvar"
   ]
  },
  {
   "cell_type": "code",
   "execution_count": 19,
   "metadata": {},
   "outputs": [
    {
     "data": {
      "text/plain": [
       "(0.12323182979320253, 0.13198487374807155, 0.7003213865979324)"
      ]
     },
     "execution_count": 19,
     "metadata": {},
     "output_type": "execute_result"
    }
   ],
   "source": [
    "rf=.0308\n",
    "E_minvar=Eind.T.dot(w_minvar)\n",
    "s_minvar=(w_minvar.T.dot(Sigma).dot(w_minvar))**.5\n",
    "RS_minvar=(E_minvar-rf)/s_minvar\n",
    "E_minvar,s_minvar,RS_minvar"
   ]
  },
  {
   "cell_type": "code",
   "execution_count": 20,
   "metadata": {
    "scrolled": true
   },
   "outputs": [],
   "source": [
    "# Portafolio EMV\n",
    "EMV=minimize(fun=menos_RS,\n",
    "            x0=w0,\n",
    "            args=(Eind,Sigma,rf),\n",
    "            bounds=bnds,\n",
    "            constraints=cons,\n",
    "            tol=1e-8)"
   ]
  },
  {
   "cell_type": "code",
   "execution_count": 21,
   "metadata": {},
   "outputs": [
    {
     "data": {
      "text/plain": [
       "array([7.10533133e-17, 0.00000000e+00, 2.11148880e-16, 0.00000000e+00,\n",
       "       4.77083073e-17, 0.00000000e+00, 2.03286655e-01, 0.00000000e+00,\n",
       "       4.97199773e-02, 1.09700060e-16, 3.08430679e-01, 0.00000000e+00,\n",
       "       2.19927382e-01, 1.80048412e-01, 3.85868943e-02])"
      ]
     },
     "execution_count": 21,
     "metadata": {},
     "output_type": "execute_result"
    }
   ],
   "source": [
    "w_EMV=EMV.x\n",
    "w_EMV"
   ]
  },
  {
   "cell_type": "code",
   "execution_count": 22,
   "metadata": {},
   "outputs": [
    {
     "data": {
      "text/plain": [
       "(0.3859521736740882, 0.25171094261110705, 1.410952459952437)"
      ]
     },
     "execution_count": 22,
     "metadata": {},
     "output_type": "execute_result"
    }
   ],
   "source": [
    "# Pesos, rendimiento y riesgo del portafolio EMV\n",
    "E_EMV=Eind.T.dot(w_EMV)\n",
    "s_EMV=(w_EMV.T.dot(Sigma).dot(w_EMV))**0.5\n",
    "RS_EMV=(E_EMV-rf)/s_EMV\n",
    "E_EMV,s_EMV,RS_EMV"
   ]
  },
  {
   "cell_type": "code",
   "execution_count": 23,
   "metadata": {},
   "outputs": [
    {
     "data": {
      "text/plain": [
       "0.019427116992211894"
      ]
     },
     "execution_count": 23,
     "metadata": {},
     "output_type": "execute_result"
    }
   ],
   "source": [
    "# Covarianza entre los portafolios\n",
    "cov=w_EMV.T.dot(Sigma).dot(w_minvar)\n",
    "cov"
   ]
  },
  {
   "cell_type": "code",
   "execution_count": 24,
   "metadata": {},
   "outputs": [
    {
     "data": {
      "text/plain": [
       "0.5847659793711497"
      ]
     },
     "execution_count": 24,
     "metadata": {},
     "output_type": "execute_result"
    }
   ],
   "source": [
    "# Correlación entre los portafolios\n",
    "corr=cov/(s_EMV*s_minvar)\n",
    "corr"
   ]
  },
  {
   "cell_type": "code",
   "execution_count": 26,
   "metadata": {},
   "outputs": [],
   "source": [
    "frontera=pd.DataFrame(data={'w_EMV':w,\n",
    "                           'w_minvar':1-w,\n",
    "                           'Media':w*E_EMV+(1-w)*E_minvar,\n",
    "                           'Vol':((w*s_EMV)**2+((1-w)*s_minvar)**2+2*w*(1-w)*cov)**0.5})\n",
    "frontera['RS']=(frontera['Media']-rf)/frontera['Vol']"
   ]
  },
  {
   "cell_type": "code",
   "execution_count": 27,
   "metadata": {},
   "outputs": [],
   "source": [
    "wp=np.linspace(0,1.5,N)\n",
    "LAC=pd.DataFrame(data={'wp':wp,\n",
    "                       'wf':1-wp,\n",
    "                        'Media':wp*E_EMV+(1-wp)*rf,\n",
    "                         'Vol':wp*s_EMV})\n",
    "LAC['RS']=(LAC['Media']-rf)/LAC['Vol']"
   ]
  },
  {
   "cell_type": "code",
   "execution_count": 30,
   "metadata": {},
   "outputs": [
    {
     "data": {
      "image/png": "[encoded data removed]",
      "text/plain": [
       "<Figure size 432x288 with 1 Axes>"
      ]
     },
     "metadata": {
      "needs_background": "light"
     },
     "output_type": "display_data"
    }
   ],
   "source": [
    "plt.scatter(frontera[\"Vol\"],\n",
    "frontera[\"Media\"],\n",
    "c=frontera[\"RS\"],\n",
    "cmap=\"RdYlBu\",\n",
    "label=\"Frontera de minima varianza\")\n",
    "# Activos ind\n",
    "for i in range(n):\n",
    "    plt.plot(summary.iloc[i, 1], summary.iloc[i, 0], \"o\", ms=11, label=summary.index[i])\n",
    "# Port. óptimos\n",
    "plt.plot(s_EMV, E_EMV, \"dm\", ms=10, label=\"Portafolio EMV\")\n",
    "plt.plot(s_minvar, E_minvar, \"db\", ms=10, label=\"Portafolio mínima varianza\")\n",
    "plt.plot(LAC[\"Vol\"], LAC[\"Media\"], \"--\", label=\"LAC\")\n",
    "# Etiquetas de los ejes\n",
    "plt.xlabel(\"Volatilidad $\\sigma$\")\n",
    "plt.ylabel(\"Rendimiento esperado $E[r]$\")\n",
    "# Leyenda\n",
    "plt.legend(loc=\"upper left\", bbox_to_anchor=(1.3, 1))\n",
    "plt.plot(0,rf,'ok',ms=8,label='Libre de riesgo')\n",
    "plt.grid()\n",
    "#plt.axis([0.03, 0.06, 0.0, 0.015]);"
   ]
  },
  {
   "cell_type": "code",
   "execution_count": 69,
   "metadata": {},
   "outputs": [
    {
     "data": {
      "text/plain": [
       "(0.5605447444262907, 0.43945525557370935)"
      ]
     },
     "execution_count": 69,
     "metadata": {},
     "output_type": "execute_result"
    }
   ],
   "source": [
    "#Asignación de capital\n",
    "g=10\n",
    "w_opt=(E_EMV-rf)/(g*s_EMV**2)\n",
    "w_opt,1-w_opt"
   ]
  },
  {
   "cell_type": "code",
   "execution_count": 70,
   "metadata": {},
   "outputs": [],
   "source": [
    "VNQ=w_EMV[0]*w_opt\n",
    "VBQ=w_EMV[1]*w_opt\n",
    "SPY=w_EMV[2]*w_opt\n",
    "VTI=w_EMV[3]*w_opt\n",
    "VYM=w_EMV[4]*w_opt\n",
    "IBM=w_EMV[5]*w_opt\n",
    "AAL=w_EMV[6]*w_opt\n",
    "GOOG=w_EMV[7]*w_opt\n",
    "PFE=w_EMV[8]*w_opt\n",
    "SONY=w_EMV[9]*w_opt\n",
    "AAPL=w_EMV[10]*w_opt\n",
    "VWAGY=w_EMV[11]*w_opt\n",
    "NFLX=w_EMV[12]*w_opt\n",
    "AMZN=w_EMV[13]*w_opt\n",
    "KO=w_EMV[14]*w_opt\n",
    "#Tasa libre de riesgo\n",
    "por_rf=1-w_opt"
   ]
  },
  {
   "cell_type": "code",
   "execution_count": 71,
   "metadata": {},
   "outputs": [],
   "source": [
    "a=[VNQ,VBQ,SPY,VTI,VYM,IBM,AAL,GOOG,PFE,SONY,AAPL,VWAGY,NFLX,AMZN,KO,por_rf]\n"
   ]
  },
  {
   "cell_type": "code",
   "execution_count": 72,
   "metadata": {},
   "outputs": [],
   "source": [
    "tickers_1 = 'VNQ VBK SPY VTI VYM IBM AAL GOOG PFE SONY AAPL VWAGY NFLX AMZN KO CETES'\n",
    "tickers_1 = tickers_1.split(' ')"
   ]
  },
  {
   "cell_type": "code",
   "execution_count": 73,
   "metadata": {},
   "outputs": [
    {
     "data": {
      "text/html": [
       "<div>\n",
       "<style scoped>\n",
       "    .dataframe tbody tr th:only-of-type {\n",
       "        vertical-align: middle;\n",
       "    }\n",
       "\n",
       "    .dataframe tbody tr th {\n",
       "        vertical-align: top;\n",
       "    }\n",
       "\n",
       "    .dataframe thead th {\n",
       "        text-align: right;\n",
       "    }\n",
       "</style>\n",
       "<table border=\"1\" class=\"dataframe\">\n",
       "  <thead>\n",
       "    <tr style=\"text-align: right;\">\n",
       "      <th></th>\n",
       "      <th>Asignación de capital</th>\n",
       "    </tr>\n",
       "  </thead>\n",
       "  <tbody>\n",
       "    <tr>\n",
       "      <th>VNQ</th>\n",
       "      <td>3.982856e-17</td>\n",
       "    </tr>\n",
       "    <tr>\n",
       "      <th>VBK</th>\n",
       "      <td>0.000000e+00</td>\n",
       "    </tr>\n",
       "    <tr>\n",
       "      <th>SPY</th>\n",
       "      <td>1.183584e-16</td>\n",
       "    </tr>\n",
       "    <tr>\n",
       "      <th>VTI</th>\n",
       "      <td>0.000000e+00</td>\n",
       "    </tr>\n",
       "    <tr>\n",
       "      <th>VYM</th>\n",
       "      <td>2.674264e-17</td>\n",
       "    </tr>\n",
       "    <tr>\n",
       "      <th>IBM</th>\n",
       "      <td>0.000000e+00</td>\n",
       "    </tr>\n",
       "    <tr>\n",
       "      <th>AAL</th>\n",
       "      <td>1.139513e-01</td>\n",
       "    </tr>\n",
       "    <tr>\n",
       "      <th>GOOG</th>\n",
       "      <td>0.000000e+00</td>\n",
       "    </tr>\n",
       "    <tr>\n",
       "      <th>PFE</th>\n",
       "      <td>2.787027e-02</td>\n",
       "    </tr>\n",
       "    <tr>\n",
       "      <th>SONY</th>\n",
       "      <td>6.149179e-17</td>\n",
       "    </tr>\n",
       "    <tr>\n",
       "      <th>AAPL</th>\n",
       "      <td>1.728892e-01</td>\n",
       "    </tr>\n",
       "    <tr>\n",
       "      <th>VWAGY</th>\n",
       "      <td>0.000000e+00</td>\n",
       "    </tr>\n",
       "    <tr>\n",
       "      <th>NFLX</th>\n",
       "      <td>1.232791e-01</td>\n",
       "    </tr>\n",
       "    <tr>\n",
       "      <th>AMZN</th>\n",
       "      <td>1.009252e-01</td>\n",
       "    </tr>\n",
       "    <tr>\n",
       "      <th>KO</th>\n",
       "      <td>2.162968e-02</td>\n",
       "    </tr>\n",
       "    <tr>\n",
       "      <th>CETES</th>\n",
       "      <td>4.394553e-01</td>\n",
       "    </tr>\n",
       "  </tbody>\n",
       "</table>\n",
       "</div>"
      ],
      "text/plain": [
       "       Asignación de capital\n",
       "VNQ             3.982856e-17\n",
       "VBK             0.000000e+00\n",
       "SPY             1.183584e-16\n",
       "VTI             0.000000e+00\n",
       "VYM             2.674264e-17\n",
       "IBM             0.000000e+00\n",
       "AAL             1.139513e-01\n",
       "GOOG            0.000000e+00\n",
       "PFE             2.787027e-02\n",
       "SONY            6.149179e-17\n",
       "AAPL            1.728892e-01\n",
       "VWAGY           0.000000e+00\n",
       "NFLX            1.232791e-01\n",
       "AMZN            1.009252e-01\n",
       "KO              2.162968e-02\n",
       "CETES           4.394553e-01"
      ]
     },
     "execution_count": 73,
     "metadata": {},
     "output_type": "execute_result"
    }
   ],
   "source": [
    "a_c = pd.DataFrame(columns=['Asignación de capital'], index=[tickers_1])\n",
    "a_c['Asignación de capital']=a\n",
    "a_c"
   ]
  },
  {
   "cell_type": "code",
   "execution_count": 74,
   "metadata": {},
   "outputs": [
    {
     "data": {
      "text/plain": [
       "0.22987868442458334"
      ]
     },
     "execution_count": 74,
     "metadata": {},
     "output_type": "execute_result"
    }
   ],
   "source": [
    "ret_esp = a_c.iloc[0:15,0]*summary[\"Media\"].values\n",
    "ret_esp.sum()+rf*por_rf"
   ]
  },
  {
   "cell_type": "markdown",
   "metadata": {},
   "source": [
    "# 2.2"
   ]
  },
  {
   "cell_type": "markdown",
   "metadata": {},
   "source": [
    "# 2.3"
   ]
  },
  {
   "cell_type": "markdown",
   "metadata": {},
   "source": [
    "# 2.4"
   ]
  },
  {
   "cell_type": "markdown",
   "metadata": {},
   "source": [
    "# 2.5"
   ]
  },
  {
   "cell_type": "markdown",
   "metadata": {},
   "source": [
    "# 2.6"
   ]
  },
  {
   "cell_type": "markdown",
   "metadata": {},
   "source": [
    "## 3. Evaluación del rendimiento\n",
    "\n",
    "Usando los portafolios que encontraron en el punto anterior, deberán encontrar:\n",
    "\n",
    "1. El rendimiento del portafolio 2 durante el 2016.\n",
    "\n",
    "2. El rendimiento del portafolio 3 durante el 2017.\n",
    "\n",
    "3. El rendimiento del portafolio 4 durante el 2018.\n",
    "\n",
    "4. El rendimiento del portafolio 5 durante el 2019.\n",
    "\n",
    "5. El rendimiento del portafolio 6 durante el 2020.\n",
    "\n",
    "6. El rendimiento del portafolio 6 durante lo que va del 2021.\n",
    "\n",
    "6. El rendimiento total durante  el periodo de tenencia.\n",
    "\n",
    "7. El rendimiento promedio anual durante el periodo de tenencia.\n",
    "\n",
    "9. Si hubieran invertido 10.000 USD en estos portafolios a lo largo del tiempo y nunca hubieran retirado ni adicionado nada más, ¿Cuánto dinero tendrían invertido en este momento?"
   ]
  },
  {
   "cell_type": "markdown",
   "metadata": {},
   "source": [
    "# 3.1"
   ]
  },
  {
   "cell_type": "code",
   "execution_count": 67,
   "metadata": {},
   "outputs": [],
   "source": [
    "start = '2016-01-01'\n",
    "end = '2016-12-31'\n",
    "prices=get_adj_closes(tickers, start, end, 'd')\n",
    "ret = prices.pct_change().dropna()"
   ]
  },
  {
   "cell_type": "code",
   "execution_count": 83,
   "metadata": {},
   "outputs": [
    {
     "data": {
      "text/plain": [
       "0.11252420868357176"
      ]
     },
     "execution_count": 83,
     "metadata": {},
     "output_type": "execute_result"
    }
   ],
   "source": [
    "t=ret.mean()*252\n",
    "t=(t.values*a_c.iloc[0:15,0]).sum()\n",
    "t+rf*por_rf"
   ]
  },
  {
   "cell_type": "code",
   "execution_count": 85,
   "metadata": {},
   "outputs": [
    {
     "data": {
      "text/plain": [
       "Symbols\n",
       "VNQ      0.108959\n",
       "VBK      0.137413\n",
       "SPY      0.136368\n",
       "VTI      0.145246\n",
       "VYM      0.177320\n",
       "IBM      0.257630\n",
       "AAL      0.210708\n",
       "GOOG     0.059577\n",
       "PFE      0.071064\n",
       "SONY     0.190664\n",
       "AAPL     0.144534\n",
       "VWAGY    0.003263\n",
       "NFLX     0.217263\n",
       "AMZN     0.206102\n",
       "KO       0.019638\n",
       "dtype: float64"
      ]
     },
     "execution_count": 85,
     "metadata": {},
     "output_type": "execute_result"
    }
   ],
   "source": [
    "ret.mean()*252"
   ]
  },
  {
   "cell_type": "markdown",
   "metadata": {},
   "source": [
    "## 4. Adicional\n",
    "\n",
    "Todo lo anterior es lo mínimo necesario del proyecto. Sin embargo, se considerarán ampliamente si ustedes miden el comportamiento de los portafolios con otras métricas que se les ocurran.\n",
    "\n",
    "Además, se considerará ampliamente también si tienen en cuenta los precios reales de los activos en el momento de la compra, y como modifica esto las ponderaciones que encontraron para sus portafolios, considerando que no pueden comprar fracciones de activos y/o ETFs."
   ]
  },
  {
   "cell_type": "markdown",
   "metadata": {},
   "source": [
    "## 5. Presentación\n",
    "\n",
    "Todo lo anterior lo deben realizar en un notebook de jupyter considerando que de ahí mismo realizarán la presentación del proyecto."
   ]
  },
  {
   "cell_type": "markdown",
   "metadata": {},
   "source": [
    "<script>\n",
    "  $(document).ready(function(){\n",
    "    $('div.prompt').hide();\n",
    "    $('div.back-to-top').hide();\n",
    "    $('nav#menubar').hide();\n",
    "    $('.breadcrumb').hide();\n",
    "    $('.hidden-print').hide();\n",
    "  });\n",
    "</script>\n",
    "\n",
    "<footer id=\"attribution\" style=\"float:right; color:#808080; background:#fff;\">\n",
    "Created with Jupyter by Esteban Jiménez Rodríguez.\n",
    "</footer>"
   ]
  }
 ],
 "metadata": {
  "kernelspec": {
   "display_name": "Python 3",
   "language": "python",
   "name": "python3"
  },
  "language_info": {
   "codemirror_mode": {
    "name": "ipython",
    "version": 3
   },
   "file_extension": ".py",
   "mimetype": "text/x-python",
   "name": "python",
   "nbconvert_exporter": "python",
   "pygments_lexer": "ipython3",
   "version": "3.7.4"
  }
 },
 "nbformat": 4,
 "nbformat_minor": 2
}
